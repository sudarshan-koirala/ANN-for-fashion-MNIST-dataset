{
  "nbformat": 4,
  "nbformat_minor": 0,
  "metadata": {
    "colab": {
      "provenance": [],
      "authorship_tag": "ABX9TyM/keEQ8OgSDOGVmk7xkvZN",
      "include_colab_link": true
    },
    "kernelspec": {
      "name": "python3",
      "display_name": "Python 3"
    },
    "language_info": {
      "name": "python"
    }
  },
  "cells": [
    {
      "cell_type": "markdown",
      "metadata": {
        "id": "view-in-github",
        "colab_type": "text"
      },
      "source": [
        "<a href=\"https://colab.research.google.com/github/sudarshan-koirala/ANN-for-fashion-MNIST-dataset/blob/master/Auto_GPT.ipynb\" target=\"_parent\"><img src=\"https://colab.research.google.com/assets/colab-badge.svg\" alt=\"Open In Colab\"/></a>"
      ]
    },
    {
      "cell_type": "markdown",
      "source": [
        "# Auto-GPT using OpenAI and ElevenLabs and Pinecone\n",
        "## Notebook updated as the github page is updated once I create the youtube video."
      ],
      "metadata": {
        "id": "kY8hMaLW20cr"
      }
    },
    {
      "cell_type": "markdown",
      "source": [
        "## Clone the repo and install required dependencies"
      ],
      "metadata": {
        "id": "JtNRFfc528At"
      }
    },
    {
      "cell_type": "code",
      "execution_count": null,
      "metadata": {
        "id": "swF_E6vJzsyA"
      },
      "outputs": [],
      "source": [
        "!git clone https://github.com/Significant-Gravitas/Auto-GPT.git"
      ]
    },
    {
      "cell_type": "code",
      "source": [
        "# move to the repo\n",
        "%cd Auto-GPT/"
      ],
      "metadata": {
        "id": "IuIVbjvE3GkL"
      },
      "execution_count": null,
      "outputs": []
    },
    {
      "cell_type": "code",
      "source": [
        "# Install dependencies \n",
        "!pip install -r requirements.txt\n",
        "!pip install colab-xterm #for terminal"
      ],
      "metadata": {
        "id": "4-2zOBhE3Q4z"
      },
      "execution_count": null,
      "outputs": []
    },
    {
      "cell_type": "markdown",
      "source": [
        "## API keys in .env file\n",
        "- Google colab doesn't allow you to open .env.template file, so we need to do the following steps.\n",
        "1. Copy the content of .env.template to env file\n",
        "2. Paste the required api keys, in our case, `OPENAI_API_KEY`, `ELEVENLABS_API_KEY`, `PINECONE_API_KEY` and `PINECONE_ENV`. Remember to input the api key in this format as I see many being confused. `OPENAI_API_KEY=sk-xxxxxx`\n",
        "3. Rename to .env\n",
        "\n",
        "### How to obtain the api keys\n",
        "- For OpenAI \n",
        "    - Obtain your OpenAI API key from: https://platform.openai.com/account/api-keys.\n",
        "- For Elevenlabs \n",
        "    - Obtain your ElevenLabs API key from: https://elevenlabs.io. You can view your xi-api-key using the \"Profile\" tab on the website.\n",
        "- For Pinecone\n",
        "    - Obtain API key and env from: https://www.pinecone.io/"
      ],
      "metadata": {
        "id": "BLSS3qzq4Deq"
      }
    },
    {
      "cell_type": "code",
      "source": [
        "# first lets see what it is inside the .env.template file\n",
        "!cat .env.template"
      ],
      "metadata": {
        "id": "Dor1p46L41ZX"
      },
      "execution_count": null,
      "outputs": []
    },
    {
      "cell_type": "code",
      "source": [
        "# copy the content of .env.tempalte to env file\n",
        "# here, I am just renaming the file\n",
        "%mv .env.template env"
      ],
      "metadata": {
        "id": "u8kgxxKc3vgo"
      },
      "execution_count": null,
      "outputs": []
    },
    {
      "cell_type": "code",
      "source": [
        "# from the sidebar menu, (files > refresh)\n",
        "# open the env file (double click it) and paste the necessary environment variables and save it (Ctrl S)\n",
        "# once this is done, rename the env file to .env\n",
        "%mv env .env"
      ],
      "metadata": {
        "id": "a--46ciT6aKh"
      },
      "execution_count": null,
      "outputs": []
    },
    {
      "cell_type": "markdown",
      "source": [
        "## Load the colab xterm extension and run terminal"
      ],
      "metadata": {
        "id": "TMx4QUY48TR7"
      }
    },
    {
      "cell_type": "code",
      "source": [
        "%load_ext colabxterm"
      ],
      "metadata": {
        "id": "XryUiFCc8Lfp"
      },
      "execution_count": null,
      "outputs": []
    },
    {
      "cell_type": "markdown",
      "source": [
        "- Once this is done, we are ready to move to Auto-GPT part. \n",
        "- Run the terminal with the command shown below and run the following command in the terminal if you have gpt3.5 access and follow the instructions provided after you run the terminal.  \n",
        "`python3 -m autogpt --gpt3only`\n",
        "- Run the terminal with the command shown below and run the following command in the terminal if you have gpt4access and follow the instructions provided after you run the terminal.  \n",
        "`python3 -m autogpt`"
      ],
      "metadata": {
        "id": "_lnwYakb88B_"
      }
    },
    {
      "cell_type": "code",
      "source": [
        "# launch the terminal\n",
        "%xterm"
      ],
      "metadata": {
        "id": "TA6IfoQI_pGM"
      },
      "execution_count": null,
      "outputs": []
    },
    {
      "cell_type": "code",
      "source": [],
      "metadata": {
        "id": "PTt_A2Oi-2m8"
      },
      "execution_count": null,
      "outputs": []
    }
  ]
}